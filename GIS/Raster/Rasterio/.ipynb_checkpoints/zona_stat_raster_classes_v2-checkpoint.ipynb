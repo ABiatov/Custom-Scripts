{
 "cells": [
  {
   "cell_type": "markdown",
   "id": "a3862076-f6d2-4b31-a417-c0d9e6af7935",
   "metadata": {},
   "source": [
    "# zona_stat_raster_classes"
   ]
  },
  {
   "cell_type": "code",
   "execution_count": 226,
   "id": "358dccb9-ba5b-4920-93f8-050a3192dc3c",
   "metadata": {
    "tags": []
   },
   "outputs": [],
   "source": [
    "path_to_your_tiff = \"C:/Users/admin/Dropbox/MAPS/WD/Seliverstov_Oleg/Sviati_gory_burned/data/rasters/dNBR_classes_21_23.tif\"\n",
    "\n",
    "path_to_your_geopackage = \"C:/Users/admin/Dropbox/MAPS/WD/Seliverstov_Oleg/Sviati_gory_burned/data/vectors/SgNP_3857_dissolved.gpkg\"\n",
    "input_layer = 'SgNP_3857_dissolved'\n",
    "\n",
    "# path_to_your_geopackage = \"C:/Users/admin/Dropbox/MAPS/WD/Seliverstov_Oleg/Sviati_gory_burned/data/vectors/test_3857.gpkg\"\n",
    "# input_layer = 'test_3857'\n",
    "\n",
    "path_to_output_gpkg = \"C:/Users/admin/Dropbox/MAPS/WD/Seliverstov_Oleg/Sviati_gory_burned/data/vectors/SgNP_3857_dissolved_stat.gpkg\"\n",
    "\n",
    "epsg_for_calc = 32637\n",
    "\n",
    "fields_classes = [\"0\", \"1\", \"2\", \"3\", \"4\", \"5\", \"6\", \"7\"]\n"
   ]
  },
  {
   "cell_type": "code",
   "execution_count": 222,
   "id": "3e7c061e-f06b-4b40-8dbd-8ca70bc9d930",
   "metadata": {
    "tags": []
   },
   "outputs": [],
   "source": [
    "import rasterio\n",
    "from rasterio.mask import mask\n",
    "from rasterio.windows import Window\n",
    "import pandas as pd\n",
    "import geopandas as gpd\n",
    "import numpy as np\n",
    "# import pyproj"
   ]
  },
  {
   "cell_type": "code",
   "execution_count": 223,
   "id": "b73a71d8-cae8-4c71-aefa-90a70d9fc851",
   "metadata": {
    "tags": []
   },
   "outputs": [],
   "source": [
    "\n",
    "def get_stats(row, raster):\n",
    "    geom = row.geometry\n",
    "    out_image, out_transform = mask(raster, [geom], crop=True)\n",
    "    unique, counts = np.unique(out_image, return_counts=True)\n",
    "    return pd.Series(dict(zip(unique, counts)))\n",
    "\n",
    "\n",
    "\n"
   ]
  },
  {
   "cell_type": "code",
   "execution_count": 224,
   "id": "603f969a-4e33-4a99-94bb-e49b000dbb23",
   "metadata": {
    "tags": []
   },
   "outputs": [],
   "source": [
    "def clip_raster_to_polygon_extent(row, raster):\n",
    "    # Получаем экстент полигона\n",
    "    bounds = row.geometry.bounds\n",
    "    \n",
    "    # Конвертируем экстент полигона в координаты растрового пространства\n",
    "    row_min, col_min = raster.index(bounds[0], bounds[3])\n",
    "    row_max, col_max = raster.index(bounds[2], bounds[1])\n",
    "    \n",
    "    # Рассчитываем размер окна для обрезки\n",
    "    window = Window(col_off=col_min, row_off=row_min, width=col_max-col_min, height=row_max-row_min)\n",
    "    \n",
    "    # Читаем данные растра в заданном окне\n",
    "    out_image = raster.read(window=window)\n",
    "    \n",
    "    # Возвращаем обрезанный и измененный растр\n",
    "    return out_image\n"
   ]
  },
  {
   "cell_type": "code",
   "execution_count": 225,
   "id": "b5810595-382d-41eb-a751-f0dd1ea20789",
   "metadata": {
    "tags": []
   },
   "outputs": [],
   "source": [
    "def count_pixels(row, raster):\n",
    "    geom = row.geometry\n",
    "    \n",
    "    clipped_raster = clip_raster_to_polygon_extent(row, raster)\n",
    "   \n",
    "    # Заменяем все нулевые значения на единицы\n",
    "    clipped_raster[clipped_raster == 0] = 1\n",
    "    # Создаем временный растр с измененными данными\n",
    "    with rasterio.MemoryFile() as memfile:\n",
    "        profile = raster.profile\n",
    "        with memfile.open(**profile) as temp_dataset:\n",
    "            temp_dataset.write(clipped_raster[0], 1)\n",
    "            # Маскируем временный растр с помощью полигона, обрезая его по границе полигона\n",
    "            out_image, out_transform = mask(temp_dataset, [geom], crop=True)\n",
    "            # Подсчитываем общее количество пикселей в маске\n",
    "            # return out_image.size\n",
    "            return np.count_nonzero(out_image)"
   ]
  },
  {
   "cell_type": "code",
   "execution_count": 227,
   "id": "571c10e4-3181-4505-8845-7d6a2db65f26",
   "metadata": {
    "tags": []
   },
   "outputs": [],
   "source": [
    "raster = rasterio.open(path_to_your_tiff)\n",
    "polygons = gpd.read_file(path_to_your_geopackage)"
   ]
  },
  {
   "cell_type": "code",
   "execution_count": 228,
   "id": "2ded3eca-ad56-483d-968a-d0a6d9b2b8c5",
   "metadata": {
    "tags": []
   },
   "outputs": [],
   "source": [
    "source_polygons_crs = polygons.crs\n",
    "# source_polygons_crs\n",
    "# print(source_polygons_crs)"
   ]
  },
  {
   "cell_type": "code",
   "execution_count": 229,
   "id": "700a2939-dc4e-488f-833d-d6b76d147412",
   "metadata": {
    "tags": []
   },
   "outputs": [],
   "source": [
    "df = polygons.apply(get_stats, axis=1, raster=raster)\n"
   ]
  },
  {
   "cell_type": "code",
   "execution_count": 230,
   "id": "01fcf568-637f-40e4-a1fb-8da3c687b053",
   "metadata": {
    "tags": []
   },
   "outputs": [],
   "source": [
    "polygons = pd.concat([polygons, df], axis=1)\n"
   ]
  },
  {
   "cell_type": "code",
   "execution_count": 231,
   "id": "95021741-af8e-472e-b7a9-81e1b754acbf",
   "metadata": {
    "tags": []
   },
   "outputs": [],
   "source": [
    "polygons['total_pixels'] = polygons.apply(count_pixels, axis=1, raster=raster)\n"
   ]
  },
  {
   "cell_type": "code",
   "execution_count": 232,
   "id": "19067321-ef6d-405c-8352-d6b30c0b197f",
   "metadata": {
    "tags": []
   },
   "outputs": [],
   "source": [
    "polygons.columns = polygons.columns.astype(str)\n"
   ]
  },
  {
   "cell_type": "code",
   "execution_count": 233,
   "id": "bf4ffb21-ba40-427f-b802-022945ee17a1",
   "metadata": {
    "tags": []
   },
   "outputs": [],
   "source": [
    "polygons['0'] = polygons['total_pixels'].fillna(0) - polygons['1'].fillna(0) - polygons['2'].fillna(0) - \\\n",
    "    polygons['3'].fillna(0) - polygons['4'].fillna(0) - polygons['5'].fillna(0) - \\\n",
    "    polygons['6'].fillna(0) - polygons['7'].fillna(0)\n"
   ]
  },
  {
   "cell_type": "code",
   "execution_count": 234,
   "id": "c4562169-51c3-44be-9d14-c4459c494d26",
   "metadata": {
    "tags": []
   },
   "outputs": [],
   "source": [
    "polygons = polygons.to_crs(epsg=epsg_for_calc)"
   ]
  },
  {
   "cell_type": "code",
   "execution_count": 235,
   "id": "6e507842-d1d3-494e-9b84-e3c816201892",
   "metadata": {
    "tags": []
   },
   "outputs": [],
   "source": [
    "# polygons.crs"
   ]
  },
  {
   "cell_type": "code",
   "execution_count": 236,
   "id": "5035e5b8-23ed-40e9-a126-1a625bd8002b",
   "metadata": {
    "tags": []
   },
   "outputs": [],
   "source": [
    "polygons['area_m2'] = polygons['geometry'].area\n",
    "polygons['area_ha'] = round( polygons['geometry'].area / 10000 , 2)\n",
    "\n"
   ]
  },
  {
   "cell_type": "code",
   "execution_count": 237,
   "id": "3923f4b1-484e-4ef9-b1fe-aff259293382",
   "metadata": {
    "tags": []
   },
   "outputs": [],
   "source": [
    "for x in fields_classes:\n",
    "    polygons[f\"class_{x}_ha\"] = round( (polygons[x] * polygons['area_m2'] / polygons['total_pixels']) / 10000 , 2)\n",
    "   # print(f\"class_{x}_ha : \", polygons[f\"class_{x}_ha\"] )\n"
   ]
  },
  {
   "cell_type": "code",
   "execution_count": 238,
   "id": "8cab5202-efd1-46ef-a245-ed56d2372881",
   "metadata": {
    "tags": []
   },
   "outputs": [],
   "source": [
    "for x in fields_classes:\n",
    "    polygons[f\"class_{x}_percent\"] = round( (polygons[x] / polygons['total_pixels']) * 100 , 2)\n",
    "   # print(f\"class_{x}_ha : \", polygons[f\"class_{x}_ha\"] )\n"
   ]
  },
  {
   "cell_type": "code",
   "execution_count": 239,
   "id": "0ca165a7-b33a-4de4-827f-8c896096580e",
   "metadata": {
    "tags": []
   },
   "outputs": [],
   "source": [
    "polygons = polygons.to_crs(crs=source_polygons_crs)"
   ]
  },
  {
   "cell_type": "code",
   "execution_count": 240,
   "id": "e643b02a-8cac-4f45-9dbb-198fd76edbb4",
   "metadata": {
    "tags": []
   },
   "outputs": [],
   "source": [
    "# polygons.crs"
   ]
  },
  {
   "cell_type": "code",
   "execution_count": 241,
   "id": "0db24935-fdb3-4775-a82e-2f62c65022cb",
   "metadata": {
    "tags": []
   },
   "outputs": [],
   "source": [
    "polygons.to_file(path_to_output_gpkg, driver='GPKG')"
   ]
  },
  {
   "cell_type": "code",
   "execution_count": 13,
   "id": "ebb0cabc-3c2b-4145-8951-bbf2ebf85c57",
   "metadata": {},
   "outputs": [],
   "source": []
  }
 ],
 "metadata": {
  "kernelspec": {
   "display_name": "Python 3 (ipykernel)",
   "language": "python",
   "name": "python3"
  },
  "language_info": {
   "codemirror_mode": {
    "name": "ipython",
    "version": 3
   },
   "file_extension": ".py",
   "mimetype": "text/x-python",
   "name": "python",
   "nbconvert_exporter": "python",
   "pygments_lexer": "ipython3",
   "version": "3.11.0"
  }
 },
 "nbformat": 4,
 "nbformat_minor": 5
}
