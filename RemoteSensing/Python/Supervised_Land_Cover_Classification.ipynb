{
 "cells": [
  {
   "cell_type": "markdown",
   "id": "76c56d52-c50d-477f-a68c-55fafc1bf449",
   "metadata": {},
   "source": [
    "# RandomForest Classification of land cover\n",
    "\n",
    "source: http://ceholden.github.io/open-geo-tutorial/python/chapter_5_classification.html"
   ]
  },
  {
   "cell_type": "code",
   "execution_count": null,
   "id": "bc370e2d-f396-4dc1-a049-966263b87a7b",
   "metadata": {},
   "outputs": [],
   "source": []
  }
 ],
 "metadata": {
  "kernelspec": {
   "display_name": "Python 3 (ipykernel)",
   "language": "python",
   "name": "python3"
  },
  "language_info": {
   "codemirror_mode": {
    "name": "ipython",
    "version": 3
   },
   "file_extension": ".py",
   "mimetype": "text/x-python",
   "name": "python",
   "nbconvert_exporter": "python",
   "pygments_lexer": "ipython3",
   "version": "3.7.11"
  }
 },
 "nbformat": 4,
 "nbformat_minor": 5
}
