{
 "cells": [
  {
   "cell_type": "code",
   "execution_count": 14,
   "metadata": {},
   "outputs": [],
   "source": [
    "import geopandas as gpd\n",
    "import h3\n",
    "from shapely.geometry import shape, Polygon, MultiPolygon, box\n",
    "from concurrent.futures import ThreadPoolExecutor\n",
    "import numpy as np"
   ]
  },
  {
   "cell_type": "code",
   "execution_count": 15,
   "metadata": {},
   "outputs": [],
   "source": [
    "# Задаем уровень зума\n",
    "resolution = 5  # H3 zoom level\n",
    "num_splits = 4  # Количество разбиений по осям\n",
    "\n",
    "source_geojson = 'data/extent.geojson'\n",
    "target_geopackage = f'data/h3_z{resolution}.gpkg'"
   ]
  },
  {
   "cell_type": "code",
   "execution_count": 17,
   "metadata": {},
   "outputs": [
    {
     "name": "stdout",
     "output_type": "stream",
     "text": [
      "Total number of H3 cells: 297\n",
      "H3 ячейки успешно сохранены в hexagrid/data/h3_z5.gpkg\n"
     ]
    }
   ],
   "source": [
    "import geopandas as gpd\n",
    "import h3\n",
    "from shapely.geometry import shape, Polygon, MultiPolygon, box\n",
    "from concurrent.futures import ThreadPoolExecutor\n",
    "import numpy as np\n",
    "\n",
    "# Чтение GeoJSON файла\n",
    "input_geojson_file = source_geojson\n",
    "geojson_data = gpd.read_file(input_geojson_file)\n",
    "\n",
    "# Функция для разбиения полигона на части\n",
    "def split_polygon(polygon, num_splits):\n",
    "    min_x, min_y, max_x, max_y = polygon.bounds\n",
    "    x_splits = np.linspace(min_x, max_x, num_splits + 1)\n",
    "    y_splits = np.linspace(min_y, max_y, num_splits + 1)\n",
    "    sub_polygons = []\n",
    "    for i in range(num_splits):\n",
    "        for j in range(num_splits):\n",
    "            sub_poly = box(x_splits[i], y_splits[j], x_splits[i+1], y_splits[j+1])\n",
    "            intersection = polygon.intersection(sub_poly)\n",
    "            if not intersection.is_empty:\n",
    "                if isinstance(intersection, (Polygon, MultiPolygon)):\n",
    "                    sub_polygons.append(intersection)\n",
    "    return sub_polygons\n",
    "\n",
    "# Функция для получения H3 ячеек для одного полигона\n",
    "def get_h3_cells(polygon, resolution):\n",
    "    cells = h3.polyfill(polygon.__geo_interface__, resolution)\n",
    "    return cells\n",
    "\n",
    "# Функция для конвертации H3 ячеек в полигоны\n",
    "def h3_cells_to_polygons_with_index(h3_cells):\n",
    "    data = []\n",
    "    for cell in h3_cells:\n",
    "        # Получаем координаты вершин полигона (H3 ячейки)\n",
    "        boundary = h3.h3_to_geo_boundary(cell, geo_json=True)\n",
    "        # Создаем полигон с учетом порядка координат\n",
    "        polygon = Polygon([(point[1], point[0]) for point in boundary])\n",
    "        # Добавляем полигон и соответствующий H3 индекс в список данных\n",
    "        data.append({'geometry': polygon, 'h3_index': cell})\n",
    "    return data\n",
    "\n",
    "# Основная функция для обработки одного под-полигона\n",
    "def process_sub_polygon(polygon, resolution):\n",
    "    h3_cells = get_h3_cells(polygon, resolution)\n",
    "    return h3_cells_to_polygons_with_index(h3_cells)\n",
    "\n",
    "\n",
    "# Создаем список всех частей полигона\n",
    "sub_polygons = []\n",
    "for _, row in geojson_data.iterrows():\n",
    "    sub_polygons.extend(split_polygon(row['geometry'], num_splits))\n",
    "\n",
    "# Параллельная обработка частей полигона\n",
    "with ThreadPoolExecutor() as executor:\n",
    "    futures = [executor.submit(process_sub_polygon, poly, resolution) for poly in sub_polygons]\n",
    "    results = [f.result() for f in futures]\n",
    "\n",
    "# Объединение всех результатов в один GeoDataFrame\n",
    "all_data = [item for result in results for item in result]\n",
    "h3_gdf = gpd.GeoDataFrame(all_data, crs=\"EPSG:4326\")\n",
    "\n",
    "# Сохранение в файл GeoPackage с добавлением поля 'h3_index'\n",
    "output_gpkg_file = target_geopackage\n",
    "h3_gdf.to_file(output_gpkg_file, layer='h3_cells', driver=\"GPKG\")\n",
    "\n",
    "print(f\"Total number of H3 cells: {len(h3_gdf)}\")\n",
    "print(f\"H3 ячейки успешно сохранены в {output_gpkg_file}\")\n"
   ]
  }
 ],
 "metadata": {
  "kernelspec": {
   "display_name": "qgis_3_22_16",
   "language": "python",
   "name": "python3"
  },
  "language_info": {
   "codemirror_mode": {
    "name": "ipython",
    "version": 3
   },
   "file_extension": ".py",
   "mimetype": "text/x-python",
   "name": "python",
   "nbconvert_exporter": "python",
   "pygments_lexer": "ipython3",
   "version": "3.11.0"
  }
 },
 "nbformat": 4,
 "nbformat_minor": 2
}
