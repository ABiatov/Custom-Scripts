{
 "cells": [
  {
   "cell_type": "markdown",
   "id": "0cc24caa-dbd2-4f47-a9ee-8f1f9b93a923",
   "metadata": {},
   "source": [
    "# Import libraries"
   ]
  },
  {
   "cell_type": "code",
   "execution_count": 1,
   "id": "d22762e7-b182-457a-9c3b-c7d4062eaebd",
   "metadata": {},
   "outputs": [],
   "source": [
    "import requests\n",
    "import json\n"
   ]
  },
  {
   "cell_type": "markdown",
   "id": "ae09ee6a-087b-44c3-a6eb-8983c585142a",
   "metadata": {},
   "source": [
    "# NGW connection"
   ]
  },
  {
   "cell_type": "code",
   "execution_count": 7,
   "id": "5e4b742b-b18d-4025-883e-134e82bc7d95",
   "metadata": {},
   "outputs": [],
   "source": [
    "# Web GIS connection parameters\n",
    "ngw_url = 'https://<WEB-GIS URL>.nextgis.com'\n",
    "ngw_api_url = ngw_url + '/api'\n",
    "ngw_auth = ('USER', 'UOUR PASSWORD')\n",
    "\n",
    "curent_resource = 170 #layer id\n",
    "\n",
    "# Layer URL\n",
    "feature_dst = ngw_api_url+'/resource/' + str(curent_resource) + '/feature/'   \n",
    "# feature_dst\n"
   ]
  },
  {
   "cell_type": "code",
   "execution_count": 3,
   "id": "c8085eef-89eb-49cd-a123-da165f2bd273",
   "metadata": {},
   "outputs": [],
   "source": [
    "# Set feature ID\n",
    "\n",
    "feature_id = 1 "
   ]
  },
  {
   "cell_type": "code",
   "execution_count": 6,
   "id": "cb8cd2b9-6a31-4fb1-906c-19b165bedb09",
   "metadata": {},
   "outputs": [
    {
     "data": {
      "text/plain": [
       "200"
      ]
     },
     "execution_count": 6,
     "metadata": {},
     "output_type": "execute_result"
    }
   ],
   "source": [
    "# Delete all attachments in feature \n",
    "\n",
    "r_del = {\"extensions\":{\"attachment\":[]}}\n",
    "headers = {\"Accept\": \"*/*\"}\n",
    "\n",
    "req_del = requests.put(feature_dst + str(feature_id), json=r_del, headers=headers, auth=ngw_auth)\n",
    "\n",
    "req_del.status_code\n"
   ]
  },
  {
   "cell_type": "code",
   "execution_count": null,
   "id": "f83b0c50-f844-4302-bfee-0c982c7e3a6c",
   "metadata": {},
   "outputs": [],
   "source": []
  }
 ],
 "metadata": {
  "kernelspec": {
   "display_name": "Python 3 (ipykernel)",
   "language": "python",
   "name": "python3"
  },
  "language_info": {
   "codemirror_mode": {
    "name": "ipython",
    "version": 3
   },
   "file_extension": ".py",
   "mimetype": "text/x-python",
   "name": "python",
   "nbconvert_exporter": "python",
   "pygments_lexer": "ipython3",
   "version": "3.7.10"
  }
 },
 "nbformat": 4,
 "nbformat_minor": 5
}
