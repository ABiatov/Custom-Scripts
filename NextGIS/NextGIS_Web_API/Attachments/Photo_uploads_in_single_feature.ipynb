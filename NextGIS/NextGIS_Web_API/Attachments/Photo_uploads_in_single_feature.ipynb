{
 "cells": [
  {
   "cell_type": "markdown",
   "id": "0cc24caa-dbd2-4f47-a9ee-8f1f9b93a923",
   "metadata": {},
   "source": [
    "# Import libraries"
   ]
  },
  {
   "cell_type": "code",
   "execution_count": 16,
   "id": "d22762e7-b182-457a-9c3b-c7d4062eaebd",
   "metadata": {},
   "outputs": [],
   "source": [
    "import requests\n",
    "import json\n",
    "import os"
   ]
  },
  {
   "cell_type": "markdown",
   "id": "ae09ee6a-087b-44c3-a6eb-8983c585142a",
   "metadata": {},
   "source": [
    "# NGW connection"
   ]
  },
  {
   "cell_type": "code",
   "execution_count": 17,
   "id": "5e4b742b-b18d-4025-883e-134e82bc7d95",
   "metadata": {},
   "outputs": [],
   "source": [
    "# Web GIS connection parameters\n",
    "ngw_url = 'https://<WEB-GIS URL>.nextgis.com'\n",
    "ngw_api_url = ngw_url + '/api'\n",
    "ngw_auth = ('USER', 'UOUR PASSWORD')\n",
    "\n",
    "curent_resource = 170 #layer id\n",
    "\n",
    "# Layer URL\n",
    "feature_dst = ngw_api_url+'/resource/' + str(curent_resource) + '/feature/'   \n",
    "# feature_dst\n"
   ]
  },
  {
   "cell_type": "code",
   "execution_count": 18,
   "id": "17fa3bbb-c6db-4dfc-86bc-c563995eb9db",
   "metadata": {},
   "outputs": [],
   "source": [
    "feature_id = 1  # feature id"
   ]
  },
  {
   "cell_type": "code",
   "execution_count": 26,
   "id": "4800a264-23f0-4c54-b2a6-066fbedd398c",
   "metadata": {},
   "outputs": [],
   "source": [
    "# Data folder\n",
    "\n",
    "photo_directory = 'D:/MAPS/WD/rivers/photo'"
   ]
  },
  {
   "cell_type": "code",
   "execution_count": 27,
   "id": "3d780f7c-5544-48e2-9063-3c13097d523b",
   "metadata": {},
   "outputs": [],
   "source": [
    "r = requests.get(feature_dst + str(feature_id))\n",
    "\n",
    "# r.status_code\n",
    "\n"
   ]
  },
  {
   "cell_type": "code",
   "execution_count": 28,
   "id": "f8845a7e-81aa-46ea-8bd7-d45e62603006",
   "metadata": {},
   "outputs": [],
   "source": [
    "# r.content"
   ]
  },
  {
   "cell_type": "code",
   "execution_count": 29,
   "id": "84a944af-4d6d-4373-b8c4-4967e7958cf1",
   "metadata": {},
   "outputs": [],
   "source": [
    "r_json = r.json()\n",
    "# r_json"
   ]
  },
  {
   "cell_type": "code",
   "execution_count": 30,
   "id": "6756de3f-91e4-4582-8659-2cd1fbfcb9a8",
   "metadata": {},
   "outputs": [
    {
     "data": {
      "text/plain": [
       "'1/IMG_0006.JPG'"
      ]
     },
     "execution_count": 30,
     "metadata": {},
     "output_type": "execute_result"
    }
   ],
   "source": [
    "field_photo_path = r_json['fields']['file_list']\n",
    "field_photo_path"
   ]
  },
  {
   "cell_type": "code",
   "execution_count": 31,
   "id": "abed457a-77f4-4a46-ad00-d5829a1f07a7",
   "metadata": {},
   "outputs": [
    {
     "data": {
      "text/plain": [
       "'IMG_0006.JPG'"
      ]
     },
     "execution_count": 31,
     "metadata": {},
     "output_type": "execute_result"
    }
   ],
   "source": [
    "photo_name = field_photo_path.split('/')[-1]\n",
    "photo_name"
   ]
  },
  {
   "cell_type": "code",
   "execution_count": 32,
   "id": "ed1bff51-56b1-4d59-b9dd-900164f217c2",
   "metadata": {
    "tags": []
   },
   "outputs": [
    {
     "data": {
      "text/plain": [
       "<_io.BufferedReader name='D:/MAPS/WD/rivers/photo/IMG_0006.JPG'>"
      ]
     },
     "execution_count": 32,
     "metadata": {},
     "output_type": "execute_result"
    }
   ],
   "source": [
    "# filepath = 'D:/MAPS/WD/rivers/photo/IMG_0006.JPG'\n",
    "filepath = photo_directory + '/' + photo_name\n",
    "#filepath\n",
    "f = open(filepath, 'rb')\n",
    "\n",
    "f"
   ]
  },
  {
   "cell_type": "code",
   "execution_count": 33,
   "id": "40a16b9b-3540-477c-88eb-f05212f245e5",
   "metadata": {
    "tags": []
   },
   "outputs": [
    {
     "data": {
      "text/plain": [
       "{'file_upload': {'id': '9bac6683-47dd-4580-9a2e-74734fc0c549',\n",
       "  'mime_type': 'image/jpeg',\n",
       "  'size': 171450,\n",
       "  'name': 'IMG_0006.JPG'}}"
      ]
     },
     "execution_count": 33,
     "metadata": {},
     "output_type": "execute_result"
    }
   ],
   "source": [
    "req = requests.put(ngw_api_url + '/component/file_upload/upload', data=f, auth=ngw_auth)\n",
    "json_data = req.json()\n",
    "json_data['name'] = photo_name\n",
    "attach_data = {}\n",
    "attach_data['file_upload'] = json_data\n",
    "attach_data"
   ]
  },
  {
   "cell_type": "code",
   "execution_count": 34,
   "id": "de53349d-0f94-421e-a36e-370776486192",
   "metadata": {},
   "outputs": [
    {
     "data": {
      "text/plain": [
       "200"
      ]
     },
     "execution_count": 34,
     "metadata": {},
     "output_type": "execute_result"
    }
   ],
   "source": [
    "#add attachment to nextgisweb feature\n",
    "req = requests.post(feature_dst + str(feature_id) + '/attachment/', data=json.dumps(attach_data), auth=ngw_auth)\n",
    "\n",
    "req.status_code\n"
   ]
  }
 ],
 "metadata": {
  "kernelspec": {
   "display_name": "Python 3 (ipykernel)",
   "language": "python",
   "name": "python3"
  },
  "language_info": {
   "codemirror_mode": {
    "name": "ipython",
    "version": 3
   },
   "file_extension": ".py",
   "mimetype": "text/x-python",
   "name": "python",
   "nbconvert_exporter": "python",
   "pygments_lexer": "ipython3",
   "version": "3.7.10"
  }
 },
 "nbformat": 4,
 "nbformat_minor": 5
}
